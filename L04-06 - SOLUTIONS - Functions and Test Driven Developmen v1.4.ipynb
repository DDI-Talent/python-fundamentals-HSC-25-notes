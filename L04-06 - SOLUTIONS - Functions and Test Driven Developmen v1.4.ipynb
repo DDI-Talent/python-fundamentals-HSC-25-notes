{
 "cells": [
  {
   "cell_type": "code",
   "execution_count": null,
   "metadata": {},
   "outputs": [],
   "source": [
    "# experimental: you can run this cell to see your code full-width\n",
    "from IPython.display import display, HTML\n",
    "display(HTML(\"<style>.container { width:100% !important; }</style>\"))"
   ]
  },
  {
   "cell_type": "code",
   "execution_count": null,
   "metadata": {},
   "outputs": [],
   "source": [
    "#  run this cell without changing it. It only works on Noteable.\n",
    "! printf \"\\n\\nLink below can be send to someone to share your Noteable session:\\n\\nhttps://noteable.edina.ac.uk/user/$(jupyter notebook list | grep -oP '(?<=user\\/).*(?=\\/\\?)' )/tree?token=$( jupyter notebook list | grep -oP '(?<=token=).*(?= ::)' )\\n\\n\""
   ]
  },
  {
   "cell_type": "markdown",
   "metadata": {},
   "source": [
    "# Test Driven Development: Lab\n",
    "\n",
    "This lab follows directly from badge 6. If you have not done that badge, you will struggle a bit.\n",
    "\n",
    "## How labs will work: \n",
    "\n",
    "## 1. Read the Challenge \n",
    "## 2. Write a broken/silly/'banana' solution (if there isn't one yet)\n",
    "## 3. Watch the test Fail\n",
    "## 4. Write the solution\n",
    "## 3. Watch the test Pass\n"
   ]
  },
  {
   "cell_type": "markdown",
   "metadata": {},
   "source": [
    "In the labs you will work in pairs on solving programming challanges.\n",
    "\n",
    "Each challange will include \n",
    "\n",
    "- a description (what are you ment to do). Usually with a documentation in \"\"\" brackets\n",
    "- incomplete solution (some code to get you started)\n",
    "- tests (snippets of code that will tell you how correct your code is).\n",
    "\n",
    "TOP TIPS:\n",
    "- Shift+Enter will RUN the current code cell (the one that's highlighted).\n",
    "- if you need to add another cell (eg to write your own tests),  in top menu go Insert > Insert Cell, or use the big **+** icon in top left. "
   ]
  },
  {
   "cell_type": "markdown",
   "metadata": {},
   "source": [
    "### TASK 1 - Continuation from Badge 6"
   ]
  },
  {
   "cell_type": "markdown",
   "metadata": {},
   "source": [
    "Write a function largest(n1,n2,n3) that takes three numbers and returns the largest one. Use conditional logic to make it work (Please do not use the Python's built-in max() function. That's cheating :) ) "
   ]
  },
  {
   "cell_type": "code",
   "execution_count": null,
   "metadata": {},
   "outputs": [],
   "source": [
    "# your solution\n",
    "def largest(n1,n2,n3):\n",
    "    if n1>=n2 and n1>=n3:\n",
    "        largest = n1\n",
    "    elif n2>=n1 and n2>=n3:\n",
    "        largest = n2\n",
    "    else:\n",
    "        largest = n3\n",
    "    return largest\n",
    "\n",
    "# or\n",
    "\n",
    "#     if n1>=n2 and n1>=n3:\n",
    "#         return n1\n",
    "#     elif n2>=n1 and n2>=n3:\n",
    "#         return n2\n",
    "#     else:\n",
    "#         return n3"
   ]
  },
  {
   "cell_type": "code",
   "execution_count": null,
   "metadata": {},
   "outputs": [],
   "source": [
    "# see it work. \n",
    "# (if a particular test does not work, it's a good idea to 'print' the scenario that fails)\n",
    "print( largest(5,5,0) )\n"
   ]
  },
  {
   "cell_type": "code",
   "execution_count": null,
   "metadata": {},
   "outputs": [],
   "source": [
    "# your tests here:\n",
    "assert largest(5,5,0) == 5\n",
    "print(\"yay!\")"
   ]
  },
  {
   "cell_type": "code",
   "execution_count": null,
   "metadata": {},
   "outputs": [],
   "source": [
    "# your tests here:\n",
    "assert largest(6,10,0) == 10\n",
    "#make these a real test, put some real numbers where ? are\n",
    "assert largest(-5,0,5) == 5 \n",
    "assert largest(5,0,5) == 5 \n",
    "assert largest(5,5,0) == 5 \n",
    "assert largest(5,0,0) == 5 \n",
    "assert largest(0,0,0) == 0\n",
    "assert largest(-4,-6,-8) == -4\n",
    "print(\"tests passed\")"
   ]
  },
  {
   "cell_type": "markdown",
   "metadata": {},
   "source": [
    "### TASK 2 - Write a function in_order(n1,n2,n3,n4)\n",
    "\n",
    "### Remember the process:\n",
    "\n",
    "1. first write an obviously bad solution, \n",
    "2. then write tests (and see those tests fail), \n",
    "3. then adjust your solution to make tests pass"
   ]
  },
  {
   "cell_type": "markdown",
   "metadata": {},
   "source": [
    "Write a function in_order(n1,n2,n3,n4) that takes four numbers and returns True if they are in order from the smallest to largest. And return False, if they are not. Use if statements, like above, to solve this.\n",
    "\n",
    "When you write tests, decide yourself what should happen when some numbers are repeated, eg in_order(1,2,2,3). Write tests that explain what your expected behaviour is."
   ]
  },
  {
   "cell_type": "code",
   "execution_count": null,
   "metadata": {},
   "outputs": [],
   "source": [
    "# your solution\n",
    "def in_order(n1,n2,n3,n4):\n",
    "    if n1 <= n2 and n2 <= n3 and n3 <= n4:\n",
    "        return True\n",
    "    else:\n",
    "        return False\n",
    "    \n",
    "#     or:\n",
    "#     return n1 <= n2 and n2 <= n3 and n3 <= n4"
   ]
  },
  {
   "cell_type": "code",
   "execution_count": null,
   "metadata": {},
   "outputs": [],
   "source": [
    "# your tests here: (write at least 4 different tests)\n",
    "print(in_order(2,2,3,4))"
   ]
  },
  {
   "cell_type": "code",
   "execution_count": null,
   "metadata": {},
   "outputs": [],
   "source": [
    "assert in_order(2,3,4,5) == True\n",
    "assert in_order(2,3,4,0) == False\n",
    "assert in_order(5,4,3,2) == False\n",
    "assert in_order(2,30,40,500) == True\n",
    "assert in_order(2,2,4,5) == True\n",
    "print(\"worked!\")"
   ]
  },
  {
   "cell_type": "markdown",
   "metadata": {},
   "source": [
    "### TASK 3 - Write a function are_words_unique(w1,w2)\n",
    "\n",
    "### Remember the process:\n",
    "\n",
    "1. first write an obviously bad solution, \n",
    "2. then write tests (and see those tests fail), \n",
    "3. then adjust your solution to make tests pass"
   ]
  },
  {
   "cell_type": "markdown",
   "metadata": {},
   "source": [
    "Write a function are_words_unique(w1,w2) that takes two words and returns True if they are different from each other.\n",
    "\n",
    "When you write your tests, remember that \"banana\" and \"BAnaNA\" are unique words ( Python is case-sensitive, so it will think they are differen from each other)."
   ]
  },
  {
   "cell_type": "code",
   "execution_count": null,
   "metadata": {},
   "outputs": [],
   "source": [
    "# your solution (write a broken one first, then write tests, then come back here)\n",
    "\n",
    "def are_words_unique(w1,w2):\n",
    "    return w1 != w2"
   ]
  },
  {
   "cell_type": "code",
   "execution_count": null,
   "metadata": {},
   "outputs": [],
   "source": [
    "# your tests here (write at least 4)\n",
    "print(are_words_unique(\"banana\",\"kiwi\"))"
   ]
  },
  {
   "cell_type": "code",
   "execution_count": null,
   "metadata": {},
   "outputs": [],
   "source": [
    "assert are_words_unique(\"banana\",\"kiwi\") == True\n",
    "assert are_words_unique(\"banana\",\"banana\") == False\n",
    "assert are_words_unique(\"banana\",\"Banana\") == True\n",
    "print(\"yay!\")"
   ]
  },
  {
   "cell_type": "markdown",
   "metadata": {},
   "source": [
    "### PRE-TASK 4:\n",
    "\n",
    "### Before you work on the task 4, here is a new useful trick: String's build in functions/methods\n",
    "\n",
    "Many objects in Python come with some 'hidden features' called methods (or functions). String (i.e. some words enclosed in a \"quotes\") have loads of those methods.\n",
    "\n",
    "To run a method of a string, you need to take that string, then place a . (full stop) right after it, and then write the name of a function, ending with brackets (). Like this:"
   ]
  },
  {
   "cell_type": "code",
   "execution_count": null,
   "metadata": {},
   "outputs": [],
   "source": [
    "print( \"banana is a fruit\".title() )\n",
    "print( \"banana is a fruit\".upper() )\n",
    "#look at what it printed. Do you know why?"
   ]
  },
  {
   "cell_type": "code",
   "execution_count": null,
   "metadata": {},
   "outputs": [],
   "source": [
    "# You can use auto-complete to see all the possible options. Right after writing the . press Tab key and wait\n",
    "print( \"banana is a fruit\".   )\n",
    "# above, put your cursosn right after the . and press tab, you should see a list of options.\n",
    "# remember to add () at the end\n",
    "# try to pick a method .lower() from the dropdown.\n",
    "# And don't worry if you do not see a dropdown. Just continue with the notebook."
   ]
  },
  {
   "cell_type": "markdown",
   "metadata": {},
   "source": [
    "We will learn more about string functions in next block, but below is a simple example."
   ]
  },
  {
   "cell_type": "code",
   "execution_count": null,
   "metadata": {},
   "outputs": [],
   "source": [
    "# string methods can be used on string directly, or on the variable that holds the string\n",
    "fruit = \"BAnanA\"\n",
    "print(fruit)\n",
    "print(fruit.lower())\n",
    "print(\"KiWi\".lower())\n",
    "#look at what it printed. Do you know why?"
   ]
  },
  {
   "cell_type": "code",
   "execution_count": null,
   "metadata": {},
   "outputs": [],
   "source": [
    "# notice that running a the method on a string will RETURN a result, but not actually change the string\n",
    "\n",
    "fruit = \"BAnanA\"\n",
    "print(fruit.lower())\n",
    "print(fruit) "
   ]
  },
  {
   "cell_type": "code",
   "execution_count": null,
   "metadata": {},
   "outputs": [],
   "source": [
    "# you can also use the result of the method. Eg. put it in a variable,\n",
    "fruit = \"BAnanA\"\n",
    "small_case_fruit = fruit.lower()\n",
    "print(small_case_fruit)"
   ]
  },
  {
   "cell_type": "code",
   "execution_count": null,
   "metadata": {},
   "outputs": [],
   "source": [
    "#... or use it in a calculation:\n",
    "# What do you think this code would do:\n",
    "\n",
    "fruit1 = \"BAnanA\"\n",
    "fruit2 = \"banana\"\n",
    "\n",
    "if fruit1.lower() == fruit2.lower() :\n",
    "    print(\"after lower-casing both words, they appear to be identical\")\n",
    "\n",
    "# note that in the computer's 'head' the above is processed in these steps:\n",
    "# because fruit1 is \"BAnanA\" and fruit2 is \"banana\"\n",
    "\n",
    "# if   fruit1.lower() ==   fruit2.lower() :\n",
    "# if \"BAnanA\".lower() == \"banana\".lower() :\n",
    "# if \"banana\"         == \"banana\"         :\n",
    "# if True:\n"
   ]
  },
  {
   "cell_type": "code",
   "execution_count": null,
   "metadata": {},
   "outputs": [],
   "source": [
    "# some methods take arguments (just like any function would)\n",
    "\n",
    "truth = \"banana is a fruit!\".replace(\"a fruit\", \"a terrible variable name\")\n",
    "print(truth)\n",
    "\n",
    "# some other time you can google all the other awesome python string functions out there."
   ]
  },
  {
   "cell_type": "markdown",
   "metadata": {},
   "source": [
    "### TASK 4 - are_names_unique_advanced(w1,w2)\n",
    "\n",
    "### Remember the process:\n",
    "\n",
    "1. first write an obviously bad solution, \n",
    "2. then write tests (and see those tests fail), \n",
    "3. then adjust your solution to make tests pass"
   ]
  },
  {
   "cell_type": "markdown",
   "metadata": {},
   "source": [
    "Write a function are_names_unique_advanced(w1,w2) that takes two names and returns True if they are all different, but this time:\n",
    "\n",
    "- ignore the capitalisation (large letters), "
   ]
  },
  {
   "cell_type": "code",
   "execution_count": null,
   "metadata": {},
   "outputs": [],
   "source": [
    "# your solution\n",
    "# your solution (write a broken one first, then write tests, then come back here)\n",
    "\n",
    "def are_names_unique_advanced(w1,w2):\n",
    "    return w1.upper() != w2.upper()"
   ]
  },
  {
   "cell_type": "code",
   "execution_count": null,
   "metadata": {},
   "outputs": [],
   "source": []
  },
  {
   "cell_type": "code",
   "execution_count": null,
   "metadata": {},
   "outputs": [],
   "source": [
    "# your tests here (write a few)\n",
    "assert are_names_unique_advanced(\"banana\",\"kiwi\") == True\n",
    "assert are_names_unique_advanced(\"banana\",\"banana\") == False\n",
    "assert are_names_unique_advanced(\"banana\",\"Banana\") == False\n",
    "print(\"yay!\")"
   ]
  },
  {
   "cell_type": "markdown",
   "metadata": {},
   "source": [
    "### TASK 5 and onwards - make your own"
   ]
  },
  {
   "cell_type": "markdown",
   "metadata": {},
   "source": [
    "For this one you might need some pen and paper. Describe a logical process of deciding something in your life and write a function that takes all the variables needed to decide an outcome.\n",
    "\n",
    "Write a function that takes 2 or 3 arguments, and returns something. A number, a True/False, or something else.\n",
    "\n",
    "Result value could come from the arguments (eg. `largest(n1,n2)` will either return n1 or n2) or be decided by the function (eg. `is_weekend( week_day_name )` would return True or False, depending what is passed into the function. i.e. `is_weekend( 'Saturday' )` would return True)\n",
    "\n",
    "for example:\n",
    "\n",
    "    def is_it_weekend(day_of_the_week_as_word) #can you also make it not-case-sensitive?\n",
    "    def should_i_take_my_umbrella(is_raining_now, is_sky_grey) # this could take 2 boolean values\n",
    "    def is_this_a_valid_calendar_date(day_number, month_number) #assume it's year 2022"
   ]
  },
  {
   "cell_type": "code",
   "execution_count": null,
   "metadata": {},
   "outputs": [],
   "source": [
    "def is_it_weekend(day_of_the_week):\n",
    "    if day_of_the_week == \"Saturday\" or day_of_the_week == \"Sunday\":\n",
    "        return True\n",
    "    else:\n",
    "        return False\n",
    "\n",
    "print(is_it_weekend('Saturday'))\n",
    "print(is_it_weekend('Friday'))"
   ]
  },
  {
   "cell_type": "code",
   "execution_count": null,
   "metadata": {},
   "outputs": [],
   "source": [
    "assert is_it_weekend('Saturday') == True\n",
    "assert is_it_weekend('Friday') == False\n",
    "assert is_it_weekend('Pinapple') == False\n",
    "\n",
    "print(\"tests passed\")"
   ]
  },
  {
   "cell_type": "code",
   "execution_count": null,
   "metadata": {},
   "outputs": [],
   "source": [
    "def should_i_take_my_umbrella(is_raining_now, is_sky_grey):\n",
    "    if is_raining_now == True:\n",
    "        return True\n",
    "    elif is_sky_grey == True:\n",
    "        return True\n",
    "    else: \n",
    "        return False\n",
    "    \n",
    "#     or\n",
    "\n",
    "#     if is_raining_now or is_sky_grey:\n",
    "#         return True\n",
    "#     else: \n",
    "#         return False\n",
    "    \n",
    "#     or\n",
    "\n",
    "#     return is_raining_now or is_sky_grey\n",
    "\n",
    "print(should_i_take_my_umbrella(False, True))"
   ]
  },
  {
   "cell_type": "code",
   "execution_count": null,
   "metadata": {},
   "outputs": [],
   "source": [
    "assert should_i_take_my_umbrella(True, True) == True\n",
    "assert should_i_take_my_umbrella(False, True) == True\n",
    "assert should_i_take_my_umbrella(False, False) == False\n",
    "assert should_i_take_my_umbrella(True, False) == True\n",
    "print(\"tests passed\")"
   ]
  },
  {
   "cell_type": "code",
   "execution_count": null,
   "metadata": {},
   "outputs": [],
   "source": []
  },
  {
   "cell_type": "code",
   "execution_count": null,
   "metadata": {},
   "outputs": [],
   "source": []
  },
  {
   "cell_type": "code",
   "execution_count": null,
   "metadata": {},
   "outputs": [],
   "source": [
    "# first the really long, but clearly spelled-out way\n",
    "def is_this_a_valid_calendar_date(day_number, month_number):\n",
    "    # btw. notice we broke it down into many lines here . with enters. And python is not complaining!\n",
    "    # that is possible because all the logic (x and y and z)  is in () brackets\n",
    "    if (month_number == 1 or month_number == 3 or month_number == 5 \n",
    "        or month_number == 7 or month_number == 8 or month_number == 10\n",
    "        or month_number == 12):\n",
    "        # this is a month with 31 days        \n",
    "        if day_number >= 1 and day_number <= 31:\n",
    "            return True\n",
    "        else:\n",
    "            return False\n",
    "    elif (month_number == 4 or month_number == 6 or month_number == 9 or month_number == 11):\n",
    "        # this is a month with 30 days        \n",
    "        if day_number >= 1 and day_number <= 30:\n",
    "            return True\n",
    "        else:\n",
    "            return False\n",
    "    elif (month_number == 2):\n",
    "        # this is a month with 28 days\n",
    "        if day_number >= 1 and day_number <= 28:\n",
    "            return True\n",
    "        else:\n",
    "            return False\n",
    "    else:\n",
    "        return False\n"
   ]
  },
  {
   "cell_type": "code",
   "execution_count": null,
   "metadata": {},
   "outputs": [],
   "source": [
    "assert is_this_a_valid_calendar_date(20,5) == True\n",
    "assert is_this_a_valid_calendar_date(30,4) == True\n",
    "assert is_this_a_valid_calendar_date(31,4) == False\n",
    "assert is_this_a_valid_calendar_date(28,2) == True\n",
    "assert is_this_a_valid_calendar_date(29,2) == False\n",
    "assert is_this_a_valid_calendar_date(50,1) == False\n",
    "assert is_this_a_valid_calendar_date(5,13) == False\n",
    "assert is_this_a_valid_calendar_date(0,13) == False\n",
    "print(\"yay!\")"
   ]
  },
  {
   "cell_type": "markdown",
   "metadata": {},
   "source": [
    "Ok, but do you see how there is a lot A LOT of code in there, and all the if-elses turn slowly into spaghetti? The question to ask yourself is always: \n",
    "\n",
    "- are we actually solving TWO problems at the same time?\n",
    "- can we separate those problems?\n",
    "- can we write a function that will do some of that work 'on the side' so we can USE that function in our solution?\n",
    "\n",
    "The giggest 'side-quest' problem that is here is \"how many days each month has?\" - if I know this I can then just refer to that. In future badges you will learn how to use external data to help you with those sort of challenges, but today functions are our tool of choice"
   ]
  },
  {
   "cell_type": "code",
   "execution_count": null,
   "metadata": {},
   "outputs": [],
   "source": [
    "# this is a helper function, it will allow us to 'outsource'\n",
    "# some heavy lifting from our solution to this function. \n",
    "# notice how much is simplifies the solution. Also: it only uses ONE OF THE VARIABLES! (the month)\n",
    "\n",
    "def number_of_days_in_month(month_number):\n",
    "    if (month_number == 1 or month_number == 3 or month_number == 5 \n",
    "        or month_number == 7 or month_number == 8 or month_number == 10\n",
    "        or month_number == 12):\n",
    "        return 31\n",
    "    elif (month_number == 4 or month_number == 6 or month_number == 9 or month_number == 11):\n",
    "        return 30\n",
    "    elif (month_number == 2):\n",
    "        return 28\n",
    "    else:\n",
    "        return 0\n"
   ]
  },
  {
   "cell_type": "code",
   "execution_count": null,
   "metadata": {},
   "outputs": [],
   "source": [
    "assert number_of_days_in_month(1) == 31\n",
    "assert number_of_days_in_month(2) == 28\n",
    "assert number_of_days_in_month(4) == 30\n",
    "assert number_of_days_in_month(13) == 0\n",
    "assert number_of_days_in_month(-4) == 0\n",
    "print(\"yay\")"
   ]
  },
  {
   "cell_type": "markdown",
   "metadata": {},
   "source": [
    "Ok, now let's use it. Our actual `is_this_a_valid_calendar_date` function will be very short now!"
   ]
  },
  {
   "cell_type": "code",
   "execution_count": null,
   "metadata": {},
   "outputs": [],
   "source": [
    "def is_this_a_valid_calendar_date(day_number, month_number):\n",
    "    days_allowed = number_of_days_in_month(month_number)\n",
    "    if day_number > 0 and day_number <= days_allowed:\n",
    "        return True\n",
    "    else:\n",
    "        return False\n",
    "    # notice how we are dealing here with months like -2 or 13. Do you see it?\n",
    "\n",
    "assert is_this_a_valid_calendar_date(20,5) == True\n",
    "assert is_this_a_valid_calendar_date(30,4) == True\n",
    "assert is_this_a_valid_calendar_date(31,4) == False\n",
    "assert is_this_a_valid_calendar_date(50,1) == False\n",
    "assert is_this_a_valid_calendar_date(5,13) == False\n",
    "print(\"yay!\")"
   ]
  },
  {
   "cell_type": "markdown",
   "metadata": {},
   "source": [
    "Or even it could be this super short two-liner! But is it harder to read than solution above? Which one you prefer?"
   ]
  },
  {
   "cell_type": "code",
   "execution_count": null,
   "metadata": {},
   "outputs": [],
   "source": [
    "def is_this_a_valid_calendar_date(day_number, month_number):\n",
    "    days_allowed = number_of_days_in_month(month_number)\n",
    "    return day_number > 0 and day_number <= days_allowed\n",
    "\n",
    "assert is_this_a_valid_calendar_date(20,5) == True\n",
    "assert is_this_a_valid_calendar_date(30,4) == True\n",
    "assert is_this_a_valid_calendar_date(31,4) == False\n",
    "assert is_this_a_valid_calendar_date(50,1) == False\n",
    "assert is_this_a_valid_calendar_date(5,13) == False\n",
    "print(\"yay!\")"
   ]
  },
  {
   "cell_type": "markdown",
   "metadata": {},
   "source": [
    "There are many ways to solve the same puzzle or write the same code. The best solution is the one thats\n",
    "\n",
    "1. Easiest for you and your partner to understand and explain\n",
    "2. One that is easiest to adjust when customer changes their mind (functions! variables!)\n",
    "3. One that makes all the tests Pass!\n",
    "\n",
    "And however weird that sounds, that is the ORDER OF IMPORTANCE. If it passess tests but is spaghetti (fails 1) or changing anything means writing it again from scratch (fails 2)... then its not a great code and doesn't matter it passess tests."
   ]
  },
  {
   "cell_type": "code",
   "execution_count": null,
   "metadata": {},
   "outputs": [],
   "source": []
  }
 ],
 "metadata": {
  "celltoolbar": "Create Assignment",
  "kernelspec": {
   "display_name": "Python 3",
   "language": "python",
   "name": "python3"
  },
  "language_info": {
   "codemirror_mode": {
    "name": "ipython",
    "version": 3
   },
   "file_extension": ".py",
   "mimetype": "text/x-python",
   "name": "python",
   "nbconvert_exporter": "python",
   "pygments_lexer": "ipython3",
   "version": "3.7.9"
  }
 },
 "nbformat": 4,
 "nbformat_minor": 2
}
