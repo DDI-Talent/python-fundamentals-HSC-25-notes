{
 "cells": [
  {
   "cell_type": "code",
   "execution_count": null,
   "id": "09b8673a",
   "metadata": {},
   "outputs": [],
   "source": [
    "# experimental: you can run this cell to see your code full-width\n",
    "from IPython.display import display, HTML\n",
    "display(HTML(\"<style>.container { width:100% !important; }</style>\"))"
   ]
  },
  {
   "cell_type": "code",
   "execution_count": null,
   "id": "7850c9e3",
   "metadata": {},
   "outputs": [],
   "source": [
    "#  run this cell without changing it. It only works on Noteable.\n",
    "! printf \"\\n\\nLink below can be send to someone to share your Noteable session:\\n\\nhttps://noteable.edina.ac.uk/user/$(jupyter notebook list | grep -oP '(?<=user\\/).*(?=\\/\\?)' )/tree?token=$( jupyter notebook list | grep -oP '(?<=token=).*(?= ::)' )\\n\\n\""
   ]
  },
  {
   "cell_type": "markdown",
   "id": "401f2d8c",
   "metadata": {},
   "source": [
    "# Lab for badges 1-3 - in pairs: write code that solves given challanges\n",
    "\n",
    "In the future badges you will learn about functions and tests, which will do some of this work for you, but for today, try to solve below challanges as they are.\n",
    "\n",
    "Your task will always be to write some code in the `# TODO: do something here`. Feel free to change values in `inputs` to see if your code can handle multiple scenarios.\n",
    "\n",
    "\n",
    "### Top Tip:\n",
    "\n",
    "In this lab you will be using two coding concepts:\n",
    "\n",
    "- code for comparing things, so `< <= > >= == !=` which creates `True` or `False` result\n",
    "- and code for combining True/False results `and or not`"
   ]
  },
  {
   "cell_type": "markdown",
   "id": "f0e65055",
   "metadata": {},
   "source": [
    "### Helpful keyboard shortcuts:\n",
    "\n",
    "**Shift + Enter** (run cell and move to next one)\n",
    "\n",
    "**double-click word** (select word)\n",
    "\n",
    "**tripple-click word** (select line)\n",
    "\n",
    "**Shift + move around with arrows** (select many lines or text)\n",
    "\n",
    "**Tab** (autocomplete of variable or function names. They had to be used at least once for this to work)\n",
    "\n",
    "**ctrl/cmd + z** (undo)\n",
    "\n",
    "**ctrl/cmd + ?** (comment out current line, or currently celected lines)\n",
    "\n",
    "**ctrl/cmd + [** (move selected lines left) \n",
    "\n",
    "**ctrl/cmd + ]** (move selected lines right) "
   ]
  },
  {
   "cell_type": "markdown",
   "id": "357c1716",
   "metadata": {},
   "source": [
    "### Starting example (done for you)"
   ]
  },
  {
   "cell_type": "code",
   "execution_count": null,
   "id": "c7c43cf0",
   "metadata": {},
   "outputs": [],
   "source": [
    "# which number is larger?\n",
    "\n",
    "# inputs\n",
    "n1 = 20\n",
    "n2 = 20\n",
    "result = \"banana\"\n",
    "\n",
    "# TODO: do something here\n",
    "if n1 > n2:\n",
    "    result = n1\n",
    "else:\n",
    "    result = n2\n",
    "# eg. (for inputs 3 and 7, expect 7)\n",
    "print(result)\n",
    "\n",
    "# now that you see it working, change inputs, does it still work? \n",
    "# how about these: 7 and 8, or 9 and 9, or 0 and -8?"
   ]
  },
  {
   "cell_type": "markdown",
   "id": "64447ee1",
   "metadata": {},
   "source": [
    "### Task 0: Are numbers the same?"
   ]
  },
  {
   "cell_type": "code",
   "execution_count": null,
   "id": "88978fce",
   "metadata": {},
   "outputs": [],
   "source": [
    "# are numbers the same?\n",
    "\n",
    "# inputs\n",
    "n1 = 7\n",
    "n2 = 70\n",
    "result = \"banana\" \n",
    "\n",
    "# TODO: do something here\n",
    "if n1 == n2:\n",
    "    result = True\n",
    "else:\n",
    "    result = False\n",
    "\n",
    "# could also be this one line, but it is farder on humans to understand:\n",
    "result = n1 == n2\n",
    "# result \n",
    "# eg. (for inputs 3 and 3, expect True)\n",
    "# eg. (for inputs 3 and 7, expect False)\n",
    "print(result)"
   ]
  },
  {
   "cell_type": "code",
   "execution_count": null,
   "id": "179281af",
   "metadata": {},
   "outputs": [],
   "source": [
    "3 == 3"
   ]
  },
  {
   "cell_type": "markdown",
   "id": "6a38a1cf",
   "metadata": {},
   "source": [
    "### Task 1:  Largest out of 3"
   ]
  },
  {
   "cell_type": "code",
   "execution_count": null,
   "id": "2923154f",
   "metadata": {},
   "outputs": [],
   "source": [
    "# inputs\n",
    "n1 = 30\n",
    "n2 = 30\n",
    "n3 = 7\n",
    "\n",
    "result = \"banana\"\n",
    "\n",
    "if n1 >= n2 and n1 >= n3:\n",
    "    result = n1\n",
    "elif n2 >= n1 and n2 >= n3:\n",
    "    result = n2\n",
    "else:\n",
    "    result = n3\n",
    "# result \n",
    "# eg. for 3,7,4 expect 7\n",
    "print(result)\n",
    "\n",
    "# whern you change inputs, does it still work?"
   ]
  },
  {
   "cell_type": "markdown",
   "id": "619cb417",
   "metadata": {},
   "source": [
    "### Task 2: Are numbers in order?"
   ]
  },
  {
   "cell_type": "code",
   "execution_count": null,
   "id": "df6f13b3",
   "metadata": {},
   "outputs": [],
   "source": [
    "# This one is tricky, unless you discuss it first: \n",
    "# what does it mean that three numbers are in order? Think about examples!\n",
    "\n",
    "# inputs\n",
    "n1 = 3\n",
    "n2 = 4\n",
    "n3 = 4\n",
    "result = \"banana\"\n",
    "\n",
    "# TODO: do something here\n",
    "if n1 <= n2 and n2 <= n3:\n",
    "    result = True\n",
    "else:\n",
    "    result = False\n",
    "    \n",
    "# or using a bit advanced 'ternary operator' (a one line if-else).\n",
    "# This gets confusing spaghetti quickly :()\n",
    "result = True if n1 <= n2 and n2 <= n3 else False\n",
    "# or you can do this. It sort of works for simple if-else which return true/false\n",
    "result = n1 <= n2 and n2 <= n3\n",
    "\n",
    "# result \n",
    "# eg. for 3,7,4 expect False\n",
    "# eg. for 3,4,8 expect True\n",
    "# eg. for 3,4,4 expect True\n",
    "# eg. for 5,3,1 expect False\n",
    "print(result)"
   ]
  },
  {
   "cell_type": "code",
   "execution_count": null,
   "id": "3020051c",
   "metadata": {},
   "outputs": [],
   "source": []
  },
  {
   "cell_type": "markdown",
   "id": "defdf059",
   "metadata": {},
   "source": [
    "### Task 3:  Largest out of 4"
   ]
  },
  {
   "cell_type": "code",
   "execution_count": null,
   "id": "db21c23d",
   "metadata": {},
   "outputs": [],
   "source": [
    "# inputs\n",
    "n1 = 1\n",
    "n2 = 4\n",
    "n3 = 3\n",
    "n4 = 9\n",
    "result = \"banana\"\n",
    "\n",
    "if n1 >= n2 and n1 >= n3 and n2 >= n4:\n",
    "    result = n1\n",
    "elif n2 >= n1 and n2 >= n3 and n2 >= n4:\n",
    "    result = n2\n",
    "elif n3 >= n1 and n3 >= n2 and n3 >= n4:\n",
    "    result = n3\n",
    "else:\n",
    "    result = n4\n",
    "    \n",
    "# or\n",
    "\n",
    "# result \n",
    "# eg. for 3,7,4,9 expect 9\n",
    "# eg. for 10,7,4,9 expect 10\n",
    "print(result)"
   ]
  },
  {
   "cell_type": "code",
   "execution_count": null,
   "id": "8da8689a",
   "metadata": {},
   "outputs": [],
   "source": [
    "# largest number using the 'current winner' method, \n",
    "# I like this one since it's easier to scale-up when you suddenlty have 10 numbers...\n",
    "# for 10 numbers the sheer volume of >= & and would be scarry \n",
    "\n",
    "n1 = 1\n",
    "n2 = 4\n",
    "n3 = 3\n",
    "n4 = 9\n",
    "result = \"banana\"\n",
    "\n",
    "largest_so_far = n1\n",
    "if n2 > largest_so_far:\n",
    "    largest_so_far = n2\n",
    "if n3 > largest_so_far:\n",
    "    largest_so_far = n3\n",
    "if n4 > largest_so_far:\n",
    "    largest_so_far = n4\n",
    "\n",
    "result = largest_so_far\n",
    "print(result)"
   ]
  },
  {
   "cell_type": "markdown",
   "id": "b2732823",
   "metadata": {},
   "source": [
    "### Task 4:  5 in order"
   ]
  },
  {
   "cell_type": "code",
   "execution_count": null,
   "id": "a77b45f7",
   "metadata": {},
   "outputs": [],
   "source": [
    "# inputs\n",
    "n1 = 2\n",
    "n2 = 3\n",
    "n3 = 4\n",
    "n4 = 9\n",
    "n5 = 10\n",
    "result = \"banana\"\n",
    "\n",
    "if n1 <= n2 and n2 <= n3 and n3 <= n4 and n4 <= n5:\n",
    "    result = True\n",
    "else:\n",
    "    result = False\n",
    "\n",
    "# notice that in python this will work, but is NOT a recommended great paractice \n",
    "# (and will confuse non-python people). Don't do that.\n",
    "if n1 <= n2 <= n3  <= n4 <= n5: \n",
    "    result = True\n",
    "else:\n",
    "    result = False\n",
    "\n",
    "# result \n",
    "# eg. for 3,7,4,9,10 expect False\n",
    "# eg. for 3,7,8,9,10 expect True\n",
    "# eg. for 3,7,7,9,10 expect True\n",
    "# eg. for 30,27,17,9,0 expect False\n",
    "\n",
    "print(result)\n",
    "\n",
    "# whern you change inputs, does it still work?"
   ]
  },
  {
   "cell_type": "markdown",
   "id": "49b9442f",
   "metadata": {},
   "source": [
    "### Task 5:  6 in order and different from each other"
   ]
  },
  {
   "cell_type": "code",
   "execution_count": null,
   "id": "40fcb014",
   "metadata": {},
   "outputs": [],
   "source": [
    "# inputs\n",
    "n1 = 2\n",
    "n2 = 3\n",
    "n3 = 40\n",
    "n4 = 6\n",
    "n5 = 9\n",
    "n6 = 10\n",
    "result = \"banana\"\n",
    "\n",
    "if n1 < n2 and n2 < n3 and n3 < n4 and n4 < n5 and n5 < n6:\n",
    "    result = True\n",
    "else:\n",
    "    result = False\n",
    "\n",
    "print(result)\n",
    "# whern you change inputs, does it still work?"
   ]
  },
  {
   "cell_type": "markdown",
   "id": "89e590e1",
   "metadata": {},
   "source": [
    "### Task 6 : are 4 numbers all different from each other"
   ]
  },
  {
   "cell_type": "code",
   "execution_count": null,
   "id": "1d9dcd41",
   "metadata": {},
   "outputs": [],
   "source": [
    "# inputs\n",
    "n1 = 10\n",
    "n2 = 6\n",
    "n3 = 7\n",
    "n4 = 9\n",
    "\n",
    "result = \"banana\"\n",
    "\n",
    "if (n1 != n2 and n1 != n3 and n1 != n4) and (n2 != n3 and n2 != n4) and (n3 != n4):\n",
    "    result = True\n",
    "else:\n",
    "    result = False\n",
    "\n",
    "#    or\n",
    "restult = (n1 != n2 and n1 != n3 and n1 != n4) and (n2 != n3 and n2 != n4) and (n3 != n4)\n",
    "\n",
    "    \n",
    "# result \n",
    "# eg. for 8,7,4,9 expect True\n",
    "# eg. for 8,1,2,9 expect True\n",
    "# eg. for 3,7,7,9 expect False\n",
    "print(result)\n",
    "\n",
    "# whern you change inputs, does it still work?"
   ]
  },
  {
   "cell_type": "markdown",
   "id": "143020c8",
   "metadata": {},
   "source": [
    "### Task 7:  Second Largest out of 3 (as if you ordered them, and took the second largest)\n",
    "\n",
    "This exercise can take a very long time. You need to time-box it, that is: decide to take maximum 10 minutes doing it. If it is not solved in 10 minutes, move to the next exercise! "
   ]
  },
  {
   "cell_type": "code",
   "execution_count": null,
   "id": "b4059a86",
   "metadata": {},
   "outputs": [],
   "source": [
    "# inputs\n",
    "n1 = 4\n",
    "n2 = 5\n",
    "n3 = 6\n",
    "second_largest = \"banana\"\n",
    "\n",
    "# just to show you you can have NESTED ifs: this is very human-centric\n",
    "if n1 >= n2 and n1 >= n3:\n",
    "    # I know n1 is the largest\n",
    "    if n2 > n3:\n",
    "        second_largest = n2\n",
    "    else:\n",
    "        second_largest = n3\n",
    "elif n2 >= n1 and n2 >= n3:\n",
    "    # I know n2 is the largest\n",
    "    if n1 > n3:\n",
    "        second_largest = n1\n",
    "    else:\n",
    "        second_largest = n3\n",
    "else:\n",
    "    # I know n3 is the largest\n",
    "    if n1 > n2:\n",
    "        second_largest = n1\n",
    "    else:\n",
    "        second_largest = n2\n",
    "\n",
    "# or, a bit easier depending how you define second largest:\n",
    "\n",
    "if (n2 <= n1 and n1 <= n3) or (n2 >= n1 and n1 >= n3):\n",
    "    second_largest = n1 \n",
    "elif (n1 <= n2 and n2 <= n3) or (n1 >= n2 and n2 >= n3):\n",
    "    second_largest = n2\n",
    "else: \n",
    "    second_largest = n3 \n",
    "\n",
    "print(second_largest)"
   ]
  },
  {
   "cell_type": "markdown",
   "id": "9288b55f",
   "metadata": {},
   "source": [
    "### Task 8:  Implement a sentence"
   ]
  },
  {
   "cell_type": "code",
   "execution_count": null,
   "id": "d4a9fc8b",
   "metadata": {},
   "outputs": [],
   "source": [
    "# scenario: I go for walks only if it is not raining.\n",
    "# On weekends, I only go between 9 and 15 hour. \n",
    "# But on week days I go between 7 and 21 hour.\n",
    "# Should I go for a walk? Make result True, or False\n",
    "rain = False\n",
    "day = \"Saturday\"\n",
    "time = 9\n",
    "result = \"banana\" \n",
    "is_day_weekend = (day == \"Saturday\" or day == \"Sunday\")\n",
    "\n",
    "if rain == True:\n",
    "    result = False\n",
    "elif is_day_weekend and (time >= 9 and time <= 15):\n",
    "    result = True\n",
    "elif (not is_day_weekend) and (time >= 7 and time <= 21):\n",
    "    result = True\n",
    "else:\n",
    "    result = False\n",
    "    \n",
    "print(result)"
   ]
  },
  {
   "cell_type": "code",
   "execution_count": null,
   "id": "a7972fd4",
   "metadata": {},
   "outputs": [],
   "source": [
    "# decision tree approach. easier to make a mistake, but easier to write also\n",
    "rain = False\n",
    "day = \"Saturday\"\n",
    "time = 9\n",
    "result = \"banana\" \n",
    "is_day_weekend = (day == \"Saturday\" or day == \"Sunday\")\n",
    "\n",
    "if rain == True:\n",
    "    result = False\n",
    "else:\n",
    "    if is_day_weekend:\n",
    "        if (time >= 9 and time <= 15):\n",
    "            result = True\n",
    "        else: \n",
    "            result = False\n",
    "    else:\n",
    "        if (time >= 7 and time <= 21):\n",
    "            result = True\n",
    "        else: \n",
    "            result = False\n",
    "    \n",
    "print(result)"
   ]
  },
  {
   "cell_type": "markdown",
   "id": "1eaed19d",
   "metadata": {},
   "source": [
    "### Task 9+ It's  Up to you\n",
    "\n",
    "Write your own 'sentence' scenario with your partner, and code it. For example think about decisions in everyday life: crossing the road, making tea, leaving house. What are variables? (colour of the light? do I have milk? is it raining?). What are decisions you're taking based on those variables?"
   ]
  },
  {
   "cell_type": "code",
   "execution_count": null,
   "id": "383f09ea",
   "metadata": {},
   "outputs": [],
   "source": [
    "# Write your code here"
   ]
  },
  {
   "cell_type": "code",
   "execution_count": null,
   "id": "b07dd6ef",
   "metadata": {},
   "outputs": [],
   "source": []
  },
  {
   "cell_type": "code",
   "execution_count": null,
   "id": "6dbe9ac7",
   "metadata": {},
   "outputs": [],
   "source": []
  }
 ],
 "metadata": {
  "kernelspec": {
   "display_name": "Python 3",
   "language": "python",
   "name": "python3"
  },
  "language_info": {
   "codemirror_mode": {
    "name": "ipython",
    "version": 3
   },
   "file_extension": ".py",
   "mimetype": "text/x-python",
   "name": "python",
   "nbconvert_exporter": "python",
   "pygments_lexer": "ipython3",
   "version": "3.7.9"
  }
 },
 "nbformat": 4,
 "nbformat_minor": 5
}
