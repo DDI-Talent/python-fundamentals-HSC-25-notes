{
 "cells": [
  {
   "cell_type": "markdown",
   "metadata": {},
   "source": [
    "# Final Assignment\n",
    "\n",
    "Final assignment for Foundations of Software Development in Health and Social Care works the same way as your Test Drive assignment. You are asked to write **TWO SEPARATE MINI-REPORTS**, each accompanied by code and a visualisation.\n",
    "\n",
    "In Learn you will accurate and up to date details about:\n",
    "\n",
    "- submission deadlines\n",
    "- marking criteria\n",
    "- where and in what format to submit\n",
    "- more info about the three components of each mini-report (code, visualisation, written mini-report)"
   ]
  },
  {
   "cell_type": "markdown",
   "metadata": {},
   "source": [
    "\n",
    "### Your audience:\n",
    "\n",
    "One way to think about the reports is: Imagine you are an NHS junior data analyst and you are responding by email to a journalist. Try to explain things they might not know. Focus on what they might find interesting in your writeup. Make your visualisation understandable and well signposted.\n",
    "\n",
    "### Important bits:\n",
    "\n",
    "- remember you need to create two independent mini-reports (each consisting of: code, visualisation & written report). Write them both in this notebook.\n",
    "- do not share your code for this assignment on Learn - this is an individual university assignment, and normal rules of 'own work' and plagiarism apply.\n",
    "- signpost your work with headers (ex. \"report 1 code\", \"report 1 visualisation\", \"report 2 code\" etc)\n",
    "- do your work in this notebook, details of submission will be in learn\n",
    "- only use techniques you learned on this course (no Pandas!) and write your code by yourself.\n",
    "- written part of mini-reports will be short, about 2 paragraphs of text (200 words +/- 10%) explaining what you saw in the data, what question you identified, and how you answered it with code."
   ]
  },
  {
   "cell_type": "markdown",
   "metadata": {},
   "source": [
    "### Data you are given two datasets describing boards (areas) of NHS Scotland:\n",
    "\n",
    "- Covid across the boards in variable `boards_info`\n",
    "- NHS boards in Scotland information `covid_days`\n",
    "\n",
    "Each covid day datapoint has:\n",
    "- infection nmbers for the whole Scotland\n",
    "- information about the day (month, weekday, etc)\n",
    "- infection numbers for each board (advanced)\n",
    "\n",
    "Each board datapoint has information about:\n",
    "- number of people living there and nhs staff working there (staff are also counted in patients number)\n",
    "- information about budget for years 20-22 in pounds\n",
    "- some geographical information about the board\n"
   ]
  },
  {
   "cell_type": "markdown",
   "metadata": {},
   "source": [
    "\n",
    "### Your task\n",
    "\n",
    "Your task is to:\n",
    "\n",
    "- look at the data\n",
    "- find a question that can be answered with this data (even if quite simple)\n",
    "- write code that answers that question\n",
    "- visualise the output of your code (as graph, or prints)\n",
    "- write a short mini-report about what you found"
   ]
  },
  {
   "cell_type": "markdown",
   "metadata": {},
   "source": [
    "### Example questions you could investigate\n",
    "\n",
    "It's your task to come up with a question that you can answer with this data.\n",
    "\n",
    "- What can you say about different NHS Boards from this data? Look at the data available: size, population, budget etc.\n",
    "- Are there any patterns in covid reporting in this data? You can focus on one day, or one area, or one measure.\n",
    "\n",
    "And if you'd like a challange (advanced example topics):\n",
    "- Do you see some clear waves in the infections?\n",
    "- Is there something special about a individual weekdays?\n",
    "- When do reinfections start being counted? \n",
    "- if you combine data of boards and covid days what emerges?"
   ]
  },
  {
   "cell_type": "markdown",
   "metadata": {},
   "source": [
    "### Your submission\n",
    "\n",
    "More details will be in learn, but your submission will be this notebook. You will submit it in two formats:\n",
    "\n",
    "- as this notebook file (.ipynb). You can download it with File > Download as > Notebook\n",
    "- as pdf file (.pdf). You can generate it with File > Download as > Pdf via latex. If that doesn't work, you try File > Print Preview, and then save it as pdf. Do not worry if your graphs do not work in pdf or look weird: **we'll use notebooks for marking, and pdf is mainly a backup.**\n",
    "\n",
    "### Test if your notebook runs correctly:\n",
    "\n",
    "Make sure your noteook can be run from top to bottom with no errors.\n",
    "To test it, in Noteable choose **Kernel > Restart and Run All**. (that's what we will do when we mark your assignment). If your notebook is not running in Noteable we won't be able to mark it."
   ]
  },
  {
   "cell_type": "markdown",
   "metadata": {},
   "source": [
    "### Starting code"
   ]
  },
  {
   "cell_type": "code",
   "execution_count": null,
   "metadata": {},
   "outputs": [],
   "source": [
    "# the usual imports.\n",
    "# You have to do this yourself: e.g. you are using graphing libraries etc. bring your imports here.\n",
    "import pprint as pp\n",
    "import json"
   ]
  },
  {
   "cell_type": "code",
   "execution_count": null,
   "metadata": {},
   "outputs": [],
   "source": [
    "# this function just loads the data from files, there is no need to understand how it does it.\n",
    "def load_json_file_named(file_name):\n",
    "    try: \n",
    "        loaded_data = []\n",
    "        file_location = f\"{file_name}\"\n",
    "        with open(file_location, 'r') as file: # or f\"data/{file_name}\" depending on your files\n",
    "            loaded_data =  json.load(file)\n",
    "    except OSError as e:\n",
    "        print(f\"Error. Does the file exist in this folder? {file_location}\\n\\n {e}\")\n",
    "    return loaded_data\n",
    "\n",
    "boards_info = load_json_file_named('../data/nhs_boards_25.json')\n",
    "covid_days = load_json_file_named('../data/nhs_covid_days_25.json')\n",
    "\n",
    "# check if data loaded:\n",
    "print(f\"Boards: {len(boards_info)}\")\n",
    "print(f\"Days: {len(covid_days)}\")"
   ]
  },
  {
   "cell_type": "markdown",
   "metadata": {},
   "source": [
    "### End of starting code!"
   ]
  },
  {
   "cell_type": "markdown",
   "metadata": {},
   "source": [
    "# Report 1: "
   ]
  },
  {
   "cell_type": "markdown",
   "metadata": {},
   "source": [
    "## Your Code:"
   ]
  },
  {
   "cell_type": "code",
   "execution_count": null,
   "metadata": {},
   "outputs": [],
   "source": []
  },
  {
   "cell_type": "code",
   "execution_count": null,
   "metadata": {},
   "outputs": [],
   "source": []
  },
  {
   "cell_type": "code",
   "execution_count": null,
   "metadata": {},
   "outputs": [],
   "source": []
  },
  {
   "cell_type": "markdown",
   "metadata": {},
   "source": [
    "## Visualisation:"
   ]
  },
  {
   "cell_type": "code",
   "execution_count": null,
   "metadata": {},
   "outputs": [],
   "source": []
  },
  {
   "cell_type": "code",
   "execution_count": null,
   "metadata": {},
   "outputs": [],
   "source": []
  },
  {
   "cell_type": "markdown",
   "metadata": {},
   "source": [
    "## Your mini-report:"
   ]
  },
  {
   "cell_type": "markdown",
   "metadata": {},
   "source": [
    "Your writeup will be here."
   ]
  },
  {
   "cell_type": "markdown",
   "metadata": {},
   "source": [
    "# Report 2: "
   ]
  },
  {
   "cell_type": "markdown",
   "metadata": {},
   "source": [
    "## Your Code:"
   ]
  },
  {
   "cell_type": "code",
   "execution_count": null,
   "metadata": {},
   "outputs": [],
   "source": []
  },
  {
   "cell_type": "code",
   "execution_count": null,
   "metadata": {},
   "outputs": [],
   "source": []
  },
  {
   "cell_type": "code",
   "execution_count": null,
   "metadata": {},
   "outputs": [],
   "source": []
  },
  {
   "cell_type": "markdown",
   "metadata": {},
   "source": [
    "## Visualisation:"
   ]
  },
  {
   "cell_type": "code",
   "execution_count": null,
   "metadata": {},
   "outputs": [],
   "source": []
  },
  {
   "cell_type": "markdown",
   "metadata": {},
   "source": [
    "## Your mini-report:"
   ]
  },
  {
   "cell_type": "markdown",
   "metadata": {},
   "source": [
    "Your writeup will be here."
   ]
  },
  {
   "cell_type": "code",
   "execution_count": null,
   "metadata": {},
   "outputs": [],
   "source": []
  }
 ],
 "metadata": {
  "kernelspec": {
   "display_name": "Python 3",
   "language": "python",
   "name": "python3"
  },
  "language_info": {
   "codemirror_mode": {
    "name": "ipython",
    "version": 3
   },
   "file_extension": ".py",
   "mimetype": "text/x-python",
   "name": "python",
   "nbconvert_exporter": "python",
   "pygments_lexer": "ipython3",
   "version": "3.12.5"
  }
 },
 "nbformat": 4,
 "nbformat_minor": 4
}
