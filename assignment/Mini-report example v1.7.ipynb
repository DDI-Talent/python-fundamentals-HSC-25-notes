{
 "cells": [
  {
   "cell_type": "markdown",
   "metadata": {},
   "source": [
    "# Mini reports: Marking Criteria, Examples\n",
    "\n",
    "In this notebook:\n",
    "\n",
    "- marking criteria\n",
    "- example of mini-report which would get a 'D' mark\n",
    "- and how to **improve it into 'C' mark, just by cleaning up the code**\n",
    "- example of mini-report which would get an 'A' mark"
   ]
  },
  {
   "cell_type": "markdown",
   "metadata": {},
   "source": [
    "## Marking Criteria for each Mini Report: \n",
    "\n",
    "Note that the most accurate and up to date version of these marking criteria can be found on Learn\n",
    "\n",
    "### Business Question and Answer:\n",
    "\n",
    "Did you manage to find a question that can be answered with given data? As an analyst, you will often have to dive into available data and identify how it can help the business, or solve a problem, without first knowing what the problem is. Also, can you formulate a clear answer to the question you created?\n",
    " \n",
    "- 50% - C - GOOD - question and answer are clear, well defined and connect with the dataset\n",
    "- 60% - B - VERY GOOD - argument is clearly positioned in a business context, and attempts to provide value/insight\n",
    "- 70% - A - EXCELLENT - insights are novel, actionable and the writeup is of publishable quality.\n",
    "\n",
    "### Using the Data:\n",
    "\n",
    "How well did you use the data to answer your question? Your answer should be supported by what you found in the data. Briefly describe why this was the correct data, and the correct analysis to perform on it.\n",
    " \n",
    "- 50% - C - GOOD - data selected is appropriate for the task, analysis is clear, the source is mentioned\n",
    "- 60% - B - VERY GOOD - data analysis section advances the argument, makes a clear point and is easy to read and understand\n",
    "- 70% - A - EXCELLENT - analysis is insightful, using multiple parts of the data set in a creative way\n",
    "\n",
    "### Visualisation:\n",
    "\n",
    "Can you aid your argument/answer with visual clues? A graph can say a thousand words, but it is also easy to make one that is confusing, or misleading. Use simple (or highly customised) graphs to make your argument clearer.\n",
    " \n",
    "- 50% - C - GOOD - graph is communicative, appropriate and similar complexity as in the notes\n",
    "- 60% - B - VERY GOOD - graph is customised and combines a number of styles and types of visualisation\n",
    "- 70% - A - EXCELLENT - graph is using clear visual language to make a point, adds to the argument, and is of publishable quality\n",
    "\n",
    "### Code Quality:\n",
    "\n",
    "Is your code clean, readable and DRY (Don't repeat yourself)? Are you using good readable variable names? Did you clean up your code and does it not include any old/unused parts?\n",
    " \n",
    "- 50% - C - GOOD - code has meaningful variable names, no needlessly repeated code\n",
    "- 60% - B - VERY GOOD - also signposted, reasonably commented and cleaned up\n",
    "- 70% - A - EXCELLENT - also code has a logical flow, consistency of names and granularity/size\n",
    "\n",
    "### Code Structure:\n",
    "\n",
    "Is your code well structured and broken down? Just like good writing has sentences, paragraphs and chapters, good code should be split into sections. Break down your code into cells and functions. Use meaningful signposts (eg. comments, function names) to guide the reader through your code.\n",
    " \n",
    "- 50% - C - GOOD - code is broken down into cells, by the code's purpose\n",
    "- 60% - B - VERY GOOD - code is broken down by cell and also separated and readable. Attempts on reusing code are made\n",
    "- 70% - A - EXCELLENT - code is split into functions and/or objects and can be easily reused"
   ]
  },
  {
   "cell_type": "markdown",
   "metadata": {},
   "source": [
    "### (note for the curious) How files and Folders work in code \n",
    "\n",
    "In the code below you will see a like like this:\n",
    "\n",
    "`forecast_edinburgh = load_json_file_named('weather_edinburgh.json')`\n",
    "\n",
    "- `load_json_file_named( filename )` is a function which loads data from a file. Name of the file is kept in a variable filename\n",
    "\n",
    "- if you look into the body of that function, you will see a lot of advanced code (so only look if curious). But one thing worth noting is that we are loading a file from a folder `/data/weather_edinburgh.json` and  `/data/weather_london.json`. Below we explain what that means:\n",
    "\n",
    "\n",
    "Files live in folders. When loading a file you need to tell it which folder they live in. In python, we use 'file system' location, which means if file is in a folder, you need to say /that_folder and if file is in a folder 'up' you need to use `..` which means 'une folder up'. It all depends where we are 'starting from', as in where is your notebook.\n",
    "\n",
    "example folder and file structure:\n",
    "\n",
    "```\n",
    "FolderMain\n",
    "\n",
    "- FolderA\n",
    "   - fileA1\n",
    "   - fileA2\n",
    "   - FolderInner\n",
    "      - fileInner1\n",
    "      \n",
    "- FolderB\n",
    "   - fileB1\n",
    "```\n",
    "\n",
    "if your starting notebook is called `fileA1`:\n",
    "\n",
    "- to load file `fileA2` , you would just say `\"fileA2\"`\n",
    "- to load file `fileInner1` , you would just say `\"FolderInner/fileInner1\"`\n",
    "- to load file `fileB1` , you would just say `\"../FolderB/fileB1\"`\n",
    "\n",
    "Think of it as 'jumping'. In `\"../FolderB/fileB1\"` we jump up to FolderMain with .. and then go into FolderB and fileB1"
   ]
  },
  {
   "cell_type": "markdown",
   "metadata": {},
   "source": [
    "## Starting Code\n",
    "\n",
    "This is written for you, no need to change or deeply understand it:"
   ]
  },
  {
   "cell_type": "code",
   "execution_count": null,
   "metadata": {},
   "outputs": [],
   "source": [
    "# skip this if using noteable. Keep reading if you are installing packages on yoru own machine in anaconda.\n",
    "\n",
    "# this is commented out, because it should not be needed on noteable (but might be needed if using anaconda)\n",
    "# if it does not work (on your own machine), you might also try the command below with pip3 instead of pip\n",
    "\n",
    "# you're likely going to need only one of those lines:\n",
    "\n",
    "# !pip install plotly --upgrade\n",
    "# !pip3 install plotly --upgrade"
   ]
  },
  {
   "cell_type": "code",
   "execution_count": null,
   "metadata": {},
   "outputs": [],
   "source": [
    "# the usual imports\n",
    "import plotly.graph_objects as go\n",
    "from plotly.subplots import make_subplots\n"
   ]
  },
  {
   "cell_type": "code",
   "execution_count": null,
   "metadata": {},
   "outputs": [],
   "source": [
    "import pprint as pp\n",
    "from datetime import datetime, timedelta, date, timezone\n",
    "import json"
   ]
  },
  {
   "cell_type": "code",
   "execution_count": null,
   "metadata": {},
   "outputs": [],
   "source": [
    "# this is written for you, no need to change or deeply understand it:\n",
    "\n",
    "# functions to get the data:\n",
    "# Run this cell to load the data into variables\n",
    "\n",
    "# this function just loads the data from files, there is no need to understand how it does it.\n",
    "\n",
    "def load_json_file_named(file_name):\n",
    "    try: \n",
    "        loaded_data = []\n",
    "        file_location = f\"../data/{file_name}\"\n",
    "        with open(file_location, 'r') as file: # or f\"data/{file_name}\" depending on your files\n",
    "            loaded_data =  json.load(file)\n",
    "    except OSError as e:\n",
    "        print(f\"Error. Does the file exist in this folder? {file_location}\\n\\n {e}\")\n",
    "    return loaded_data\n",
    "\n",
    "# btw. above we use here error try-catching:\n",
    "# try is like \"while there are no trouble, continue\". If there is trouble... jump to 'except'\n",
    "# see if work: change folder name above from 'data' to something silly, like 'banana'.\n",
    "# you will see error: \"No such file or directory\""
   ]
  },
  {
   "cell_type": "code",
   "execution_count": null,
   "metadata": {},
   "outputs": [],
   "source": [
    "# this is written for you, no need to change or deeply understand it:\n",
    "\n",
    "# OK, let's use above function to load some json files into python dictionaries:\n",
    "\n",
    "forecast_edinburgh = load_json_file_named('weather_edinburgh.json')\n",
    "forecast_london = load_json_file_named('weather_london.json')\n",
    "\n",
    "print('all files loaded')"
   ]
  },
  {
   "cell_type": "code",
   "execution_count": null,
   "metadata": {},
   "outputs": [],
   "source": []
  },
  {
   "cell_type": "markdown",
   "metadata": {},
   "source": [
    "## Examples of student work:"
   ]
  },
  {
   "cell_type": "markdown",
   "metadata": {},
   "source": [
    "# 1. Report which would get a D Mark, and how to improve it\n",
    "\n",
    "### Task: Look at the weather in Edinburgh and London. A movie studio Wisney+ wants to record an outdoors scene for a movie over next few days. Your job is to advise them which of the two cities would be better for that.\n",
    "\n",
    "Note the marks and feedback below."
   ]
  },
  {
   "cell_type": "markdown",
   "metadata": {},
   "source": [
    "### Code - version 1"
   ]
  },
  {
   "cell_type": "code",
   "execution_count": null,
   "metadata": {},
   "outputs": [],
   "source": [
    "# note that there is A LOT of bad things with below code. read feedback below, and examplke of how to improve it\n",
    "\n",
    "presentation_of_weather_london = \"\"           \n",
    "\n",
    "for x in forecast_london['forecast']['forecastday']:\n",
    "    presentation_of_weather_london += str(x['date']) + \"\\t\" + str(x['day']['avgtemp_c']) + \"'C\" + \"\\n\"            \n",
    "\n",
    "print(presentation_of_weather_london)\n",
    "\n",
    "presentation_of_weather_edinburgh = \"\"           \n",
    "\n",
    "for x in forecast_edinburgh['forecast']['forecastday']:\n",
    "    presentation_of_weather_edinburgh += str(x['date']) + \"\\t\" + str(x['day']['avgtemp_c']) + \"'C\" + \"\\n\"            \n",
    "\n",
    "print(presentation_of_weather_edinburgh)"
   ]
  },
  {
   "cell_type": "markdown",
   "metadata": {},
   "source": [
    "### Written Report - version 1\n",
    "\n",
    "We looked at temperature in each city over next 3 days to find the warmer one. We think that higher temperatures are better for recording movies. Edinburgh or London are considered and our task was to use data to find the most suitable location for each day.\n",
    "\n",
    "We used the weather API to answer the question: Which day is warmer in each city? We looked at the avrerage temperature for each day. Printed text below shows each city and the temperature over next 3 days.\n",
    "\n",
    "We can see that Edinburgh is warmer on the first 2 days, while London on is warmer on the third day.\n",
    "\n",
    "(101 words)"
   ]
  },
  {
   "cell_type": "markdown",
   "metadata": {},
   "source": [
    "### Visualisation - version 1"
   ]
  },
  {
   "cell_type": "code",
   "execution_count": null,
   "metadata": {},
   "outputs": [],
   "source": [
    "# visualisation\n",
    "print(\"London\")\n",
    "print(presentation_of_weather_london)\n",
    "print(\"Edinburgh\")\n",
    "print(presentation_of_weather_edinburgh)"
   ]
  },
  {
   "cell_type": "markdown",
   "metadata": {},
   "source": [
    "### Mark: 52% - version 1\n",
    "\n",
    "   \n",
    "- **Business Question and Answer:** 55%\n",
    "- **Using the Data:** 55%\n",
    "- **Visualisation:** 60%\n",
    "- **Code Quality:** 45%\n",
    "- **Code Structure:** 45%\n",
    "\n",
    "**Notes for improvement:**\n",
    "\n",
    "- a lot of this code is repeated. Try to make it a function which 'takes in' a forecast for one city, then call that function twice\n",
    "- variable names should be meaningful. Rename x to one_day\n",
    "- question could be more interesting, and require using more than one element of the data. eg. temperature and rainfall.\n",
    "- for better string manipulation use f\"\" strings. This would improve the visualisation.\n",
    "- instead of hard-coding names of the cities, you could take them from data eg. `forecast['location']['name']`\n",
    "- dates could be used in a more human-readable format\n",
    "- your report is well below word limit, you could have used those words to explain context more."
   ]
  },
  {
   "cell_type": "code",
   "execution_count": null,
   "metadata": {},
   "outputs": [],
   "source": []
  },
  {
   "cell_type": "markdown",
   "metadata": {},
   "source": [
    "# 1b (Bonus) How to make the code better (and increase the mark)\n",
    "\n",
    "For simplicity we only improved the code, but not the visualisation or writup, so you see the small differences."
   ]
  },
  {
   "cell_type": "markdown",
   "metadata": {},
   "source": [
    "### Code - version 2"
   ]
  },
  {
   "cell_type": "code",
   "execution_count": null,
   "metadata": {},
   "outputs": [],
   "source": [
    "# notice how applying some of the feedback above makes it a slightly better code\n",
    "# code does THE SAME THING but is more DRY, readable and clean\n",
    "    \n",
    "def forecast_to_sentence(full_forecast):\n",
    "    presentation_of_weather = \"\"           \n",
    "\n",
    "    for one_day in full_forecast['forecast']['forecastday']:\n",
    "        presentation_of_weather += f\"{one_day['date']}\\t\"\n",
    "        presentation_of_weather += f\"{one_day['day']['avgtemp_c']}'C\\n\"\n",
    "            \n",
    "    return presentation_of_weather\n",
    "\n",
    "# presentation:\n",
    "print(forecast_edinburgh['location']['name'])\n",
    "print(forecast_to_sentence(forecast_edinburgh))\n",
    "\n",
    "print(forecast_london['location']['name'])\n",
    "print(forecast_to_sentence(forecast_london))"
   ]
  },
  {
   "cell_type": "markdown",
   "metadata": {},
   "source": [
    "### Mark: 60% - version 2\n",
    "\n",
    "   \n",
    "- **Business Question and Answer:** 55%\n",
    "- **Using the Data:** 55%\n",
    "- **Visualisation:** 60%\n",
    "- **Code Quality:** 65%\n",
    "- **Code Structure:** 65%\n",
    "\n",
    "This could be further improved by improving the report, and visualisation. \n",
    "\n",
    "- a simple, but well themed and meaningful bar graph could make it a 60%+ for the visualisation.\n",
    "- in the writeup report: stating what's in the data is good (which city is better for each day), but making clear recommendation is better (if shooting in next two days choose Edinburgh, otherwise choose London)."
   ]
  },
  {
   "cell_type": "markdown",
   "metadata": {},
   "source": [
    "# 2. Report which would get an A+ Mark:\n",
    "\n",
    "Below is an example of how fancy something can become, already at the level of python that you are. Have a look."
   ]
  },
  {
   "cell_type": "markdown",
   "metadata": {},
   "source": [
    "### Code"
   ]
  },
  {
   "cell_type": "code",
   "execution_count": null,
   "metadata": {},
   "outputs": [],
   "source": [
    "# helper functions\n",
    "\n",
    "def date_to_word(date_string):\n",
    "    date_object = datetime.strptime(date_string, \"%Y-%m-%d\")\n",
    "    return date_object.strftime(\"%A\")\n",
    "\n",
    "print(date_to_word('2021-11-05'))\n",
    "assert date_to_word('2021-11-05') == 'Friday'\n",
    "assert date_to_word('2021-11-10') == 'Wednesday'\n",
    "print(\"tests passed\")"
   ]
  },
  {
   "cell_type": "code",
   "execution_count": null,
   "metadata": {},
   "outputs": [],
   "source": [
    "def names_of_days(full_forecast):\n",
    "    return [date_to_word(one_day['date'])\n",
    "            for one_day in full_forecast['forecast']['forecastday']]\n",
    "\n",
    "print(names_of_days(forecast_edinburgh))\n",
    "assert names_of_days(forecast_edinburgh) == ['Monday', 'Tuesday', 'Wednesday']\n",
    "print(\"tests passed\")"
   ]
  },
  {
   "cell_type": "code",
   "execution_count": null,
   "metadata": {},
   "outputs": [],
   "source": [
    "def condition_to_emoji(condition_text):\n",
    "    weathers = {\n",
    "        'Patchy rain possible':'🌧',\n",
    "        'Cloudy':'☁️',\n",
    "        'Overcast':'🌦',\n",
    "        'Patchy light rain':'🌦',\n",
    "        'Patchy light drizzle':'🌦',\n",
    "        'Partly cloudy':'🌥',\n",
    "        'Mist':'💨',\n",
    "        'Sunny':'☀️',\n",
    "        'Clear': '🌤',\n",
    "        'Light drizzle':'🌧',\n",
    "        'Light rain shower':'🌧',\n",
    "        'Moderate rain':'🌧',\n",
    "        'Light rain':'🌧',\n",
    "        'Heavy rain':'⛈',\n",
    "        'Light sleet showers':'🌧',\n",
    "        'Light snow showers':'🌧',\n",
    "        'Moderate or heavy snow showers':'⛈',\n",
    "        'Light sleet showers':'🌧',\n",
    "        'Patchy light snow':'🌧',\n",
    "        'Light snow showers':'🌧',\n",
    "        'Moderate or heavy snow showers':'⛈'\n",
    "        \n",
    "    }\n",
    "    condition = weathers.get(condition_text, '❓') # if unknown description, return a ? emoji \n",
    "    return  condition\n",
    "\n",
    "print(condition_to_emoji('Sunny'))\n",
    "assert condition_to_emoji('Light rain') == '🌧'\n",
    "assert condition_to_emoji('Sunny') == '☀️'\n",
    "assert condition_to_emoji('Raining cats and dogs') == '❓'\n",
    "print(\"tests passed\")"
   ]
  },
  {
   "cell_type": "code",
   "execution_count": null,
   "metadata": {},
   "outputs": [],
   "source": [
    "# one way to show the data:\n",
    "\n",
    "def forecast_to_emoji(full_forecast):\n",
    "    presentation_of_weather = f\"{full_forecast['location']['name'] : <15}\"\n",
    "    presentation_of_weather += f\" from {full_forecast['forecast']['forecastday'][0]['date']}\"\n",
    "    for one_day in full_forecast['forecast']['forecastday']:\n",
    "        presentation_of_weather += f\"\\n{date_to_word(one_day['date']) : <9}\"\n",
    "        for one_hour in one_day['hour']:\n",
    "            presentation_of_weather += condition_to_emoji(one_hour['condition']['text'])\n",
    "        presentation_of_weather += f\"  {one_day['day']['avgtemp_c']}'C\"\n",
    "    presentation_of_weather += \"\\n\"\n",
    "    return presentation_of_weather"
   ]
  },
  {
   "cell_type": "code",
   "execution_count": null,
   "metadata": {},
   "outputs": [],
   "source": [
    "from plotly.subplots import make_subplots\n",
    "import plotly.io as pio\n",
    "pio.renderers.default='notebook'"
   ]
  },
  {
   "cell_type": "code",
   "execution_count": null,
   "metadata": {},
   "outputs": [],
   "source": [
    "# another way to show the data, and compare them\n",
    "\n",
    "def show_temperature_graph(city1, city2 ):\n",
    "    \n",
    "    name_city1 = city1['location']['name']\n",
    "    name_city2 = city2['location']['name']\n",
    "\n",
    "#     days_names = [\"Today\",\"Tomorrow\",\"in 2 days\"]\n",
    "    days_names = names_of_days(city1)\n",
    "    \n",
    "    temperature_min_city1 = [ one_day['day']['mintemp_c'] \n",
    "                             for one_day in city1['forecast']['forecastday']]\n",
    "    temperature_max_city1 = [ one_day['day']['maxtemp_c'] \n",
    "                             for one_day in city1['forecast']['forecastday']]\n",
    "    temperature_avg_city1 = [ one_day['day']['avgtemp_c'] \n",
    "                             for one_day in city1['forecast']['forecastday']]\n",
    "    \n",
    "    fig = make_subplots(rows=1, cols=2, subplot_titles=(f\"Temperatures in {name_city1}\", \n",
    "                                                        f\"Temperatures in {name_city2}\"),\n",
    "                       shared_yaxes=True)\n",
    "    \n",
    "    fig.add_trace(go.Scatter(y=temperature_min_city1, x=days_names , mode=\"lines\",\n",
    "                             marker_color=\"blue\",  name=\"min\"), row=1, col=1)\n",
    "    fig.add_trace(go.Scatter(y=temperature_max_city1, x=days_names , mode=\"lines\",\n",
    "                             marker_color=\"red\",  name=\"max\"), row=1, col=1)\n",
    "    fig.add_trace(go.Scatter(y=temperature_avg_city1,  x=days_names ,mode=\"lines\",\n",
    "                             marker_color=\"grey\",  name=\"avg\"), row=1, col=1)  \n",
    "            \n",
    "    \n",
    "    temperature_min_city2 = [ one_day['day']['mintemp_c'] \n",
    "                             for one_day in city2['forecast']['forecastday']]\n",
    "    temperature_max_city2 = [ one_day['day']['maxtemp_c'] \n",
    "                             for one_day in city2['forecast']['forecastday']]\n",
    "    temperature_avg_city2 = [ one_day['day']['avgtemp_c'] \n",
    "                             for one_day in city2['forecast']['forecastday']]\n",
    "    \n",
    "\n",
    "    fig.add_trace(go.Scatter(y=temperature_min_city2,x=days_names , mode=\"lines\",  \n",
    "                             marker_color=\"blue\",  name=\"min\"), row=1, col=2)\n",
    "    fig.add_trace(go.Scatter(y=temperature_max_city2, x=days_names ,mode=\"lines\",\n",
    "                             marker_color=\"red\",  name=\"max\"), row=1, col=2)\n",
    "    fig.add_trace(go.Scatter(y=temperature_avg_city2, x=days_names ,mode=\"lines\",\n",
    "                             marker_color=\"grey\",  name=\"avg\"), row=1, col=2)  \n",
    "    \n",
    "    \n",
    "\n",
    "    # Update xaxis properties\n",
    "    fig.update_xaxes(title_text=\"day\", row=1, col=1)\n",
    "    fig.update_xaxes(title_text=\"day\", row=1, col=2)\n",
    "\n",
    "    # Update yaxis properties\n",
    "    fig.update_yaxes(title_text=\"temperatures in *C (min, avg, max)\", row=1, col=1)\n",
    "\n",
    "    fig.show('notebook')"
   ]
  },
  {
   "cell_type": "code",
   "execution_count": null,
   "metadata": {},
   "outputs": [],
   "source": [
    "show_temperature_graph(forecast_edinburgh, forecast_london)"
   ]
  },
  {
   "cell_type": "markdown",
   "metadata": {},
   "source": [
    "### Written Report:\n",
    "\n",
    "Sometimes shooting movies requires particular atmospheric conditions, eg. for recording our winter special we will need a cold and sunny city (because a fake snow generator will be used). The recording will happen over the next 3 days in Edinburgh or London, and it is possible to record some days in one city, and other days in another city. Our task was to use data to find the most suitable location for each day.\n",
    "\n",
    "We used the weather API to answer the question: is Edinburgh or London colder and more sunny on each of the next 3 days. We decided to look at the information about hourly weather condition (eg. Sunny) to represent them as emoji ☀️/🌦 and then also we looked at the range of temperatures for each day.\n",
    "\n",
    "We created two diagrams: top one representing hourly weather forecast, and the bottom one with daily average temperatures (min, avg and max).\n",
    "\n",
    "From these diagrams we identified that over the next 2 days London will be colder and a little more sunny, but this trend will change on the third day. We recommend to record the first two days in London, and the third day in Edinburgh.\n",
    "\n",
    "(195 words)"
   ]
  },
  {
   "cell_type": "markdown",
   "metadata": {},
   "source": [
    "### Visualisation"
   ]
  },
  {
   "cell_type": "code",
   "execution_count": null,
   "metadata": {},
   "outputs": [],
   "source": [
    "print(forecast_to_emoji(forecast_edinburgh))\n",
    "print(forecast_to_emoji(forecast_london))"
   ]
  },
  {
   "cell_type": "code",
   "execution_count": null,
   "metadata": {},
   "outputs": [],
   "source": [
    "show_temperature_graph(forecast_edinburgh, forecast_london)"
   ]
  },
  {
   "cell_type": "markdown",
   "metadata": {},
   "source": [
    "### Mark: 76%\n",
    "   \n",
    "- **Business Question and Answer:** 70%\n",
    "- **Using the Data:** 85%\n",
    "- **Visualisation:** 80%\n",
    "- **Code Quality:** 70%\n",
    "- **Code Structure:** 75%\n",
    "\n",
    "**Notes for improvement:**\n",
    "\n",
    "-  show_temperature_graph() function could be more DRY. There is a lot of repeated code there. This could be extracted into a function that is called twice for extra points on code structure.\n"
   ]
  },
  {
   "cell_type": "code",
   "execution_count": null,
   "metadata": {},
   "outputs": [],
   "source": []
  },
  {
   "cell_type": "code",
   "execution_count": null,
   "metadata": {},
   "outputs": [],
   "source": []
  },
  {
   "cell_type": "code",
   "execution_count": null,
   "metadata": {},
   "outputs": [],
   "source": []
  }
 ],
 "metadata": {
  "kernelspec": {
   "display_name": "Python 3",
   "language": "python",
   "name": "python3"
  },
  "language_info": {
   "codemirror_mode": {
    "name": "ipython",
    "version": 3
   },
   "file_extension": ".py",
   "mimetype": "text/x-python",
   "name": "python",
   "nbconvert_exporter": "python",
   "pygments_lexer": "ipython3",
   "version": "3.12.5"
  }
 },
 "nbformat": 4,
 "nbformat_minor": 2
}
