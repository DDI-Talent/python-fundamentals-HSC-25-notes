{
 "cells": [
  {
   "cell_type": "markdown",
   "id": "d76a043e",
   "metadata": {},
   "source": [
    "In this notebook you will find some typical things you might want to do in python. This list is based on student requests:\n",
    "\n",
    "- turning two List into a Dictionary\n",
    "- turning a Dictionary into two Lists\n",
    "- Sorting\n",
    "- Finding Unique values in a list\n",
    "- "
   ]
  },
  {
   "cell_type": "markdown",
   "id": "cd4074fa",
   "metadata": {},
   "source": [
    "We will plat with the dataset from the testdrive assignment.\n",
    "\n"
   ]
  },
  {
   "cell_type": "code",
   "execution_count": 18,
   "id": "c6fe64d9",
   "metadata": {},
   "outputs": [],
   "source": [
    "import json\n",
    "import pprint as pp\n",
    "\n",
    "# you do not need to understand this function. It just loads the file\n",
    "def load_json_file_named(file_name):\n",
    "    try: \n",
    "        loaded_data = []\n",
    "        file_location = f\"../data/{file_name}\"\n",
    "        with open(file_location, 'r') as file: # or f\"data/{file_name}\" depending on your files\n",
    "            loaded_data =  json.load(file)\n",
    "    except OSError as e:\n",
    "        print(f\"Error. Does the file exist in this folder? {file_location}\\n\\n {e}\")\n",
    "    return loaded_data"
   ]
  },
  {
   "cell_type": "code",
   "execution_count": 20,
   "id": "5dfc902b",
   "metadata": {},
   "outputs": [
    {
     "data": {
      "text/plain": [
       "{'Organisation Code': 'A81001',\n",
       " 'Name': 'THE DENSHAM SURGERY',\n",
       " 'Address': {'City': 'STOCKTON-ON-TEES',\n",
       "  'Area': 'CLEVELAND',\n",
       "  'Address line 1': 'THE HEALTH CENTRE',\n",
       "  'Address line 2': 'LAWSON STREET',\n",
       "  'Address line 3': 'STOCKTON-ON-TEES',\n",
       "  'Address line 4': 'CLEVELAND',\n",
       "  'Full Postal Address': 'THE HEALTH CENTRE, LAWSON STREET, STOCKTON-ON-TEES, CLEVELAND',\n",
       "  'Postcode': 'TS18 1HU',\n",
       "  'Telephone': '01642 672351'},\n",
       " 'Status': {'Open Date': '19740401', 'Close Date': '', 'Status Code': 'A'},\n",
       " 'Prescribing Setting': '4'}"
      ]
     },
     "execution_count": 20,
     "metadata": {},
     "output_type": "execute_result"
    }
   ],
   "source": [
    "gp_practices = load_json_file_named('gp_practices.json')\n",
    "gp_practices[0]"
   ]
  },
  {
   "cell_type": "code",
   "execution_count": 19,
   "id": "120b6561",
   "metadata": {},
   "outputs": [],
   "source": []
  },
  {
   "cell_type": "markdown",
   "id": "8f371c52",
   "metadata": {},
   "source": [
    "## Keep only unique values in a list\n",
    "\n",
    "Force a list with repetitions to be a `set()`. Set is a type of list that does not allow duplicates. Then force it back to be a `list()`. \n",
    "\n",
    "This way you will end up with a list of unique values.\n",
    "\n",
    "btw. watch out this can change the order of things."
   ]
  },
  {
   "cell_type": "code",
   "execution_count": 23,
   "id": "dfe02879",
   "metadata": {},
   "outputs": [
    {
     "name": "stdout",
     "output_type": "stream",
     "text": [
      "['Sheffield', 'Manchester', 'Birmingham']\n"
     ]
    }
   ],
   "source": [
    "#simple example\n",
    "cities = [\"Manchester\", \"Birmingham\",  \"Birmingham\", \"Sheffield\"]\n",
    "unique_cities = list(set(cities))\n",
    "print(unique_cities)"
   ]
  },
  {
   "cell_type": "code",
   "execution_count": 24,
   "id": "fd8296ee",
   "metadata": {},
   "outputs": [
    {
     "name": "stdout",
     "output_type": "stream",
     "text": [
      "['A', 'D', 'C', 'P']\n"
     ]
    }
   ],
   "source": [
    "# practical example: get all unique statis codes (A, C, etc...)\n",
    "\n",
    "all_status_codes = [\n",
    "    gp['Status']['Status Code']\n",
    "    for gp in gp_practices\n",
    "]\n",
    "\n",
    "# here: use set, and then force the result to be a list again\n",
    "all_unique_status_codes = list(set(all_status_codes))\n",
    "\n",
    "print(all_unique_status_codes)"
   ]
  },
  {
   "cell_type": "markdown",
   "id": "e31f9f71",
   "metadata": {},
   "source": [
    "## Join two lists (e.g. keys and values) into a dictionary\n",
    "\n",
    "there are two techniques. Simpler one (zip) creates a 'dictionary-like object' with `zip(some_keys, some_values)` and then needs to be forced to be a dictionary with `dict()` see below:"
   ]
  },
  {
   "cell_type": "code",
   "execution_count": 17,
   "id": "c7e433c9",
   "metadata": {},
   "outputs": [
    {
     "name": "stdout",
     "output_type": "stream",
     "text": [
      "{'Manchester': 34, 'Birmingham': 67, 'Sheffield': 12}\n"
     ]
    }
   ],
   "source": [
    "# simple example\n",
    "cities = [\"Manchester\", \"Birmingham\", \"Sheffield\"]\n",
    "counts = [34,67,12]\n",
    "city_counts = dict(zip(cities, counts))\n",
    "print(city_counts)"
   ]
  },
  {
   "cell_type": "code",
   "execution_count": 30,
   "id": "49c38823",
   "metadata": {},
   "outputs": [
    {
     "name": "stdout",
     "output_type": "stream",
     "text": [
      "['A', 'A', 'C', 'A', 'A', 'A', 'A', 'C', 'A', 'A', 'A', 'A', 'A', 'C', 'A', 'A', 'A', 'A', 'A', 'A']\n"
     ]
    }
   ],
   "source": [
    "# practical example:\n",
    "status_code_names = ['A', 'D', 'C', 'P']\n",
    "# we will use variable all_status_codes from above\n",
    "# it holds all status codes of all 15000 gp practices\n",
    "# here's first 20:\n",
    "print(all_status_codes[0:20])"
   ]
  },
  {
   "cell_type": "code",
   "execution_count": 31,
   "id": "333b6b5a",
   "metadata": {},
   "outputs": [
    {
     "name": "stdout",
     "output_type": "stream",
     "text": [
      "[11580, 383, 3095, 2]\n",
      "{'A': 11580, 'D': 383, 'C': 3095, 'P': 2}\n"
     ]
    }
   ],
   "source": [
    "status_code_counts = [\n",
    "    all_status_codes.count(code_name)\n",
    "    for code_name in status_code_names\n",
    "]\n",
    "print(status_code_counts)\n",
    "\n",
    "statuses_dict = dict(zip(status_code_names, status_code_counts))\n",
    "print(statuses_dict)"
   ]
  },
  {
   "cell_type": "markdown",
   "id": "c2907151",
   "metadata": {},
   "source": [
    "# How to separate a Dict into two lists\n",
    "\n",
    "you can request just keys or just values of a dict with `.keys()` and `.values()`. These return sort of a list-like structure, so it's safest to force them to be lists with `list()`\n",
    "\n",
    "This is useful for graphs, where you need separate x and y lists.\n"
   ]
  },
  {
   "cell_type": "code",
   "execution_count": 34,
   "id": "3dc9a606",
   "metadata": {},
   "outputs": [
    {
     "name": "stdout",
     "output_type": "stream",
     "text": [
      "x_data ['Active', 'Dormant', 'Closed', 'Proposed']\n",
      "y_data [11580, 383, 3095, 2]\n"
     ]
    }
   ],
   "source": [
    "statuses_dict = {'Active':  11580, \n",
    "                 'Dormant': 383, \n",
    "                 'Closed':  3095, \n",
    "                 'Proposed': 2}\n",
    "x_data = list(statuses_dict.keys())\n",
    "y_data = list(statuses_dict.values())\n",
    "print(\"x_data\",x_data)\n",
    "print(\"y_data\",y_data)"
   ]
  },
  {
   "cell_type": "code",
   "execution_count": 33,
   "id": "5d7369be",
   "metadata": {},
   "outputs": [
    {
     "data": {
      "text/html": [
       "<iframe\n",
       "    scrolling=\"no\"\n",
       "    width=\"100%\"\n",
       "    height=\"545px\"\n",
       "    src=\"iframe_figures/figure_33.html\"\n",
       "    frameborder=\"0\"\n",
       "    allowfullscreen\n",
       "></iframe>\n"
      ]
     },
     "metadata": {},
     "output_type": "display_data"
    }
   ],
   "source": [
    "# see it on the graph:\n",
    "\n",
    "import plotly.graph_objects as go\n",
    "import plotly.io as pio\n",
    "pio.renderers.default='iframe'\n",
    "\n",
    "fig = go.Figure(\n",
    "    data=[go.Bar(y= y_data, \n",
    "                 x= x_data)],\n",
    "    layout=go.Layout(\n",
    "        title=go.layout.Title(text=\"Health practices codes\")\n",
    "    )\n",
    ")\n",
    "fig.show()"
   ]
  },
  {
   "cell_type": "markdown",
   "id": "28b39d36",
   "metadata": {},
   "source": [
    "## Operations on key-value pairs of a Dict\n",
    "\n",
    "Note that there is also `.items()` which returns (sort of) a list of two-item lists.\n",
    "\n",
    "When you loop through them (with a for loop, or list comprehension) you would not use\n",
    "\n",
    "`for thing in things`\n",
    "\n",
    "but rather\n",
    "\n",
    "`for (key, value) in key_value_pairs`\n",
    "\n",
    "As always give your key and value most meaningful names you can think of. See example below:"
   ]
  },
  {
   "cell_type": "code",
   "execution_count": 43,
   "id": "43256a5a",
   "metadata": {},
   "outputs": [
    {
     "name": "stdout",
     "output_type": "stream",
     "text": [
      "Active has a count of 11580\n",
      "Dormant has a count of 383\n",
      "Closed has a count of 3095\n",
      "Proposed has a count of 2\n"
     ]
    }
   ],
   "source": [
    "# simple example\n",
    "statuses_dict = {'Active':  11580, \n",
    "                 'Dormant': 383, \n",
    "                 'Closed':  3095, \n",
    "                 'Proposed': 2}\n",
    "\n",
    "for (status_name, status_value) in statuses_dict.items():\n",
    "    print(status_name, \"has a count of\", status_value)"
   ]
  },
  {
   "cell_type": "code",
   "execution_count": 48,
   "id": "1a9a0ad6",
   "metadata": {},
   "outputs": [
    {
     "name": "stdout",
     "output_type": "stream",
     "text": [
      "Open Date.......................19740401\n",
      "Close Date..............................\n",
      "Status Code............................A\n"
     ]
    }
   ],
   "source": [
    "# practical example\n",
    "one_health_practice = gp_practices[0]\n",
    "\n",
    "for (measure, value) in one_health_practice['Status'].items():\n",
    "    print(f\"{measure:.<30}{value:.>10}\")"
   ]
  },
  {
   "cell_type": "markdown",
   "id": "03a4f5da",
   "metadata": {},
   "source": [
    "## Dictionary Comprehension\n",
    "\n",
    "yes, it's like a list comprehension, but:\n",
    "\n",
    "- will return a dictionary\n",
    "- uses dictionary brackets\n",
    "- the top line returns a `key: value` pair instead of just one value"
   ]
  },
  {
   "cell_type": "code",
   "execution_count": 36,
   "id": "5bc5be08",
   "metadata": {},
   "outputs": [
    {
     "name": "stdout",
     "output_type": "stream",
     "text": [
      "{'banana': 6, 'apple': 5, 'kiwi': 4, 'graphefruit': 11}\n"
     ]
    }
   ],
   "source": [
    "# simple example\n",
    "words = [\"banana\", \"apple\", \"kiwi\", \"graphefruit\"]\n",
    "word_lengths = {\n",
    "    word : len(word)\n",
    "    for word in words\n",
    "}\n",
    "print(word_lengths)"
   ]
  },
  {
   "cell_type": "code",
   "execution_count": 37,
   "id": "e6b4fbbb",
   "metadata": {},
   "outputs": [
    {
     "name": "stdout",
     "output_type": "stream",
     "text": [
      "{'A': 11580, 'D': 383, 'C': 3095, 'P': 2}\n"
     ]
    }
   ],
   "source": [
    "# Practical example (this repeats the zip example from above)\n",
    "# and re-uses the variable  all_status_codes\n",
    "\n",
    "status_code_names = ['A', 'D', 'C', 'P']\n",
    "\n",
    "statuses_dict = {\n",
    "    code_name: all_status_codes.count(code_name)\n",
    "    for code_name in status_code_names\n",
    "}\n",
    "print(statuses_dict)"
   ]
  },
  {
   "cell_type": "code",
   "execution_count": 54,
   "id": "6a8566b2",
   "metadata": {},
   "outputs": [
    {
     "name": "stdout",
     "output_type": "stream",
     "text": [
      "{'Active (A)': 76.89, 'Dormant (D)': 2.54, 'Closed (C)': 20.55, 'Proposed (P)': 0.01}\n"
     ]
    }
   ],
   "source": [
    "## Advanced: you can use Dict comp to 'loop through' a Dict\n",
    "statuses_dict = {'Active':  11580, \n",
    "                 'Dormant': 383, \n",
    "                 'Closed':  3095, \n",
    "                 'Proposed': 2}\n",
    "\n",
    "# here we will re-interpret key value pair like\n",
    "# 'Active':  11580\n",
    "# into a key value pair with a changed Key, and value as %\n",
    "# 'Active (A)': 76.89\n",
    "statuses_dict_percent = {\n",
    "    f\"{name} ({name[0]})\": round(100 * value / len(gp_practices), 2) \n",
    "    for (name, value) in statuses_dict.items()\n",
    "} \n",
    "print(statuses_dict_percent)"
   ]
  },
  {
   "cell_type": "markdown",
   "id": "6307754e",
   "metadata": {},
   "source": [
    "# Sort a simple List:"
   ]
  },
  {
   "cell_type": "code",
   "execution_count": 61,
   "id": "a72d6bf2",
   "metadata": {},
   "outputs": [
    {
     "name": "stdout",
     "output_type": "stream",
     "text": [
      "['apple', 'banana', 'graphefruit', 'kiwi']\n",
      "['kiwi', 'graphefruit', 'banana', 'apple']\n",
      "\n",
      "['kiwi', 'apple', 'banana', 'graphefruit']\n",
      "['graphefruit', 'banana', 'apple', 'kiwi']\n"
     ]
    }
   ],
   "source": [
    "words = [\"banana\", \"apple\", \"kiwi\", \"graphefruit\"]\n",
    "\n",
    "print(sorted(words)) # sort alphabetically\n",
    "print(sorted(words, reverse=True)) # sort alphabetically backwards\n",
    "print()\n",
    "print(sorted(words, key = len)) # sort using a function 'len'\n",
    "print(sorted(words, key = len, reverse=True)) # sort  'len', backwards"
   ]
  },
  {
   "cell_type": "markdown",
   "id": "691394aa",
   "metadata": {},
   "source": [
    "# Sorting Lists of Dictionaries (advanced)\n",
    "\n",
    "When you are sorting things, the big question is: **What do you want to sort them BY** (e.g. alphabetically? by size? backwards?)\n",
    "\n",
    "The way you would do that in python is: \n",
    "\n",
    "1. Create function which **turns an object into a number/string** \n",
    "2. Then we tell python to use those numbers/strings as basis for your sorting\n",
    "\n",
    "Just like above you specified `key = len` to sort things by length, here you can specify any other function instead of len, eg `key = get_practice_name`"
   ]
  },
  {
   "cell_type": "code",
   "execution_count": 64,
   "id": "2698f551",
   "metadata": {},
   "outputs": [
    {
     "name": "stdout",
     "output_type": "stream",
     "text": [
      "[('Active', 11580), ('Closed', 3095), ('Dormant', 383), ('Proposed', 2)]\n",
      "[('Proposed', 2), ('Dormant', 383), ('Closed', 3095), ('Active', 11580)]\n"
     ]
    }
   ],
   "source": [
    "statuses_dict = {'Active':  11580, \n",
    "                 'Dormant': 383, \n",
    "                 'Closed':  3095, \n",
    "                 'Proposed': 2}\n",
    "\n",
    "# function that takes one item and returns 'value to sort'\n",
    "# it is given key-value pair in format [key, value]\n",
    "# so that you can get key with key_value_pair[0] \n",
    "# and value with key_value_pair[1]\n",
    "\n",
    "def get_key(key_value_pair):\n",
    "    return key_value_pair[0]\n",
    "\n",
    "def get_value(key_value_pair):\n",
    "    return key_value_pair[1]\n",
    "\n",
    "print(sorted(statuses_dict.items(), key = get_key))\n",
    "print(sorted(statuses_dict.items(), key = get_value))"
   ]
  },
  {
   "cell_type": "code",
   "execution_count": null,
   "id": "ee33a029",
   "metadata": {},
   "outputs": [],
   "source": [
    "# notice that above you are not really returned a Dict\n",
    "# but rather a list of key-value pairs like\n",
    "# [(key, value), (key, value), ...]\n",
    "# so if you want it back as a Dict, you'll need 'Dict Comprehension'\n",
    "\n",
    "sorted_dict = {\n",
    "    key_and_value[0] : key_and_value[1]\n",
    "    for key_and_value in sorted(statuses_dict.items(), key = get_value)\n",
    "}\n",
    "print(sorted_dict)"
   ]
  },
  {
   "cell_type": "code",
   "execution_count": 71,
   "id": "028004e2",
   "metadata": {},
   "outputs": [
    {
     "name": "stdout",
     "output_type": "stream",
     "text": [
      "{'Proposed': 2, 'Dormant': 383, 'Closed': 3095, 'Active': 11580}\n",
      "{'Proposed': 2, 'Dormant': 383, 'Closed': 3095, 'Active': 11580}\n"
     ]
    }
   ],
   "source": [
    "# you could also use another strategy, below, pick one you prefer.\n",
    "sorted_dict2 = {\n",
    "    key : value\n",
    "    for (key,value) in sorted(statuses_dict.items(), key = get_value)\n",
    "}\n",
    "print(sorted_dict2)"
   ]
  },
  {
   "cell_type": "code",
   "execution_count": 75,
   "id": "200ff4b3",
   "metadata": {},
   "outputs": [
    {
     "name": "stdout",
     "output_type": "stream",
     "text": [
      "{'Active': 11580, 'Closed': 3095, 'Dormant': 383, 'Proposed': 2}\n"
     ]
    }
   ],
   "source": [
    "# for completeness:\n",
    "# When you google around, you will see the more advanced\n",
    "# 'lambda syntax' (a shortened way to write simple functions)\n",
    "# but I would recommend sorting with understanding full\n",
    "# what's going on. Lambda looks like this:\n",
    "\n",
    "sorted_dict3 = {\n",
    "    key : value\n",
    "    for (key,value) in sorted(statuses_dict.items(),\n",
    "                              key = lambda k_v_pair : k_v_pair[0])\n",
    "}\n",
    "print(sorted_dict3)"
   ]
  },
  {
   "cell_type": "code",
   "execution_count": 79,
   "id": "62a83e63",
   "metadata": {},
   "outputs": [
    {
     "name": "stdout",
     "output_type": "stream",
     "text": [
      "{'Organisation Code': 'Y07248', 'Name': 'CONTINENCE PRODUCT PRESCRIPTION SERVICE', 'Address': {'City': 'NORTHAMPTON', 'Area': 'NORTHAMPTONSHIRE', 'Address line 1': 'MANFIELD COURT', 'Address line 2': 'KETTERING ROAD', 'Address line 3': 'NORTHAMPTON', 'Address line 4': 'NORTHAMPTONSHIRE', 'Full Postal Address': 'MANFIELD COURT, KETTERING ROAD, NORTHAMPTON, NORTHAMPTONSHIRE', 'Postcode': 'NN3 6NP', 'Telephone': '0300 0271381'}, 'Status': {'Open Date': '20220401', 'Close Date': '', 'Status Code': 'P'}, 'Prescribing Setting': '0'}\n"
     ]
    }
   ],
   "source": [
    "# practical example: the youngest gp practice:\n",
    "\n",
    "def get_created_date(practice):\n",
    "    return practice['Status']['Open Date']\n",
    "\n",
    "practices_by_age = sorted(gp_practices, \n",
    "                          key = get_created_date, \n",
    "                          reverse=True)\n",
    "print(practices_by_age[0])"
   ]
  },
  {
   "cell_type": "code",
   "execution_count": null,
   "id": "5fd21f70",
   "metadata": {},
   "outputs": [],
   "source": []
  },
  {
   "cell_type": "code",
   "execution_count": null,
   "id": "7d915b44",
   "metadata": {},
   "outputs": [],
   "source": []
  }
 ],
 "metadata": {
  "kernelspec": {
   "display_name": "Python 3 (ipykernel)",
   "language": "python",
   "name": "python3"
  },
  "language_info": {
   "codemirror_mode": {
    "name": "ipython",
    "version": 3
   },
   "file_extension": ".py",
   "mimetype": "text/x-python",
   "name": "python",
   "nbconvert_exporter": "python",
   "pygments_lexer": "ipython3",
   "version": "3.9.13"
  }
 },
 "nbformat": 4,
 "nbformat_minor": 5
}
